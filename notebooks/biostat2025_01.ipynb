{
 "cells": [
  {
   "cell_type": "markdown",
   "id": "839b95e5",
   "metadata": {},
   "source": [
    "# Arithmetic, Geometric and Harmonic mean"
   ]
  },
  {
   "cell_type": "code",
   "execution_count": 1,
   "id": "d309a4f9",
   "metadata": {},
   "outputs": [],
   "source": [
    "X=[1,2,3,4,5]"
   ]
  },
  {
   "cell_type": "markdown",
   "id": "455aca69",
   "metadata": {},
   "source": [
    "## Calculate manually"
   ]
  },
  {
   "cell_type": "code",
   "execution_count": 2,
   "id": "a70f2d7f",
   "metadata": {},
   "outputs": [
    {
     "name": "stdout",
     "output_type": "stream",
     "text": [
      "3.0\n"
     ]
    }
   ],
   "source": [
    "def arithmetic_mean(X):\n",
    "    \n",
    "    val=0\n",
    "    for Xi in X:\n",
    "        val=val+Xi\n",
    "        \n",
    "    val=val/len(X)\n",
    "    \n",
    "    return val\n",
    "\n",
    "print(arithmetic_mean(X))"
   ]
  },
  {
   "cell_type": "code",
   "execution_count": 3,
   "id": "cd7a0cf6",
   "metadata": {},
   "outputs": [
    {
     "name": "stdout",
     "output_type": "stream",
     "text": [
      "2.605171084697352\n"
     ]
    }
   ],
   "source": [
    "def geometric_mean(X):\n",
    "    \n",
    "    val=1\n",
    "    for Xi in X:\n",
    "        val=val*Xi\n",
    "        \n",
    "    val=val**(1/len(X))\n",
    "    \n",
    "    return val\n",
    "\n",
    "print(geometric_mean(X))"
   ]
  },
  {
   "cell_type": "code",
   "execution_count": 4,
   "id": "27a1be0c",
   "metadata": {},
   "outputs": [
    {
     "name": "stdout",
     "output_type": "stream",
     "text": [
      "2.18978102189781\n"
     ]
    }
   ],
   "source": [
    "def harmonic_mean(X):\n",
    "    \n",
    "    val=0\n",
    "    for Xi in X:\n",
    "        val=val+1/Xi\n",
    "        \n",
    "    val=len(X)/val\n",
    "    \n",
    "    return val\n",
    "\n",
    "print(harmonic_mean(X))"
   ]
  },
  {
   "cell_type": "markdown",
   "id": "e2f7e70e",
   "metadata": {},
   "source": [
    "## Using `numpy` and `scipy`"
   ]
  },
  {
   "cell_type": "code",
   "execution_count": 5,
   "id": "b843d36c",
   "metadata": {},
   "outputs": [
    {
     "name": "stdout",
     "output_type": "stream",
     "text": [
      "3.0\n"
     ]
    }
   ],
   "source": [
    "import numpy as np\n",
    "\n",
    "print(np.mean(X))"
   ]
  },
  {
   "cell_type": "code",
   "execution_count": 6,
   "id": "94b642da",
   "metadata": {},
   "outputs": [
    {
     "name": "stdout",
     "output_type": "stream",
     "text": [
      "2.6051710846973517 2.18978102189781\n"
     ]
    }
   ],
   "source": [
    "from scipy.stats import gmean, hmean\n",
    "\n",
    "print(gmean(X),hmean(X))"
   ]
  },
  {
   "cell_type": "markdown",
   "id": "cdbf1056",
   "metadata": {},
   "source": [
    "## Using `statistics`"
   ]
  },
  {
   "cell_type": "code",
   "execution_count": 7,
   "id": "b5231e78",
   "metadata": {},
   "outputs": [
    {
     "name": "stdout",
     "output_type": "stream",
     "text": [
      "3 2.6051710846973517 2.18978102189781\n"
     ]
    }
   ],
   "source": [
    "from statistics import mean, harmonic_mean, geometric_mean\n",
    "\n",
    "print(mean(X),geometric_mean(X),harmonic_mean(X))"
   ]
  },
  {
   "cell_type": "markdown",
   "id": "4d2f9980",
   "metadata": {},
   "source": [
    "# Estimation of rate of growth for a population model"
   ]
  },
  {
   "cell_type": "markdown",
   "id": "ccd5877b",
   "metadata": {},
   "source": [
    "The initial population of a colony is 100 and in subsequent years, it grows into 105, 115, 140, and 185.\n",
    "\n",
    "We want to propose a model $P_N=P_0r^N$, where $P_0$ is the initial population, $r$ is the average annual rate of growth (or average rate of growth per year), and $N$ is the year.\n",
    "\n",
    "Using the data given above, we can find the `average rate of growth per year` as an `arithmetic mean` and `geometric mean`, and see which definition of mean is accurate."
   ]
  },
  {
   "cell_type": "code",
   "execution_count": 8,
   "id": "0bed3a36",
   "metadata": {},
   "outputs": [
    {
     "name": "stdout",
     "output_type": "stream",
     "text": [
      "1.05 1.0952380952380953 1.2173913043478262 1.3214285714285714\n"
     ]
    }
   ],
   "source": [
    "# Given population data\n",
    "P=[100,105,115,140,185]\n",
    "\n",
    "# Annual rate of growth\n",
    "r1=105/100\n",
    "r2=115/105\n",
    "r3=140/115\n",
    "r4=185/140\n",
    "\n",
    "print(r1,r2,r3,r4)"
   ]
  },
  {
   "cell_type": "code",
   "execution_count": 9,
   "id": "dda20cac",
   "metadata": {},
   "outputs": [
    {
     "data": {
      "text/plain": [
       "185.00000000000003"
      ]
     },
     "execution_count": 9,
     "metadata": {},
     "output_type": "execute_result"
    }
   ],
   "source": [
    "# We know that P0 * r1 * r2 * r3 * r4 = P4\n",
    "\n",
    "P[0] * r1 * r2 * r3 * r4 "
   ]
  },
  {
   "cell_type": "code",
   "execution_count": 10,
   "id": "48d09ae1",
   "metadata": {},
   "outputs": [
    {
     "data": {
      "text/plain": [
       "188.03949672126427"
      ]
     },
     "execution_count": 10,
     "metadata": {},
     "output_type": "execute_result"
    }
   ],
   "source": [
    "from statistics import mean, geometric_mean, harmonic_mean\n",
    "\n",
    "X=[r1,r2,r3,r4]\n",
    "\n",
    "# arithmetic mean\n",
    "r_mean=mean(X)\n",
    "\n",
    "P[0]*r_mean**4"
   ]
  },
  {
   "cell_type": "code",
   "execution_count": 11,
   "id": "43781a75",
   "metadata": {},
   "outputs": [
    {
     "data": {
      "text/plain": [
       "185.00000000000009"
      ]
     },
     "execution_count": 11,
     "metadata": {},
     "output_type": "execute_result"
    }
   ],
   "source": [
    "# geometric mean\n",
    "r_mean=geometric_mean(X)\n",
    "\n",
    "P[0]*r_mean**4"
   ]
  },
  {
   "cell_type": "code",
   "execution_count": 12,
   "id": "68e7088b",
   "metadata": {},
   "outputs": [
    {
     "data": {
      "text/plain": [
       "182.0473015010497"
      ]
     },
     "execution_count": 12,
     "metadata": {},
     "output_type": "execute_result"
    }
   ],
   "source": [
    "# harmonic_mean \n",
    "r_mean=harmonic_mean(X)\n",
    "\n",
    "P[0]*r_mean**4"
   ]
  },
  {
   "cell_type": "markdown",
   "id": "6f395883",
   "metadata": {},
   "source": [
    "Geometric mean seems to explain the known growth after 4 years better."
   ]
  }
 ],
 "metadata": {
  "kernelspec": {
   "display_name": "Python 3.11",
   "language": "python",
   "name": "python3.11"
  },
  "language_info": {
   "codemirror_mode": {
    "name": "ipython",
    "version": 3
   },
   "file_extension": ".py",
   "mimetype": "text/x-python",
   "name": "python",
   "nbconvert_exporter": "python",
   "pygments_lexer": "ipython3",
   "version": "3.11.6"
  }
 },
 "nbformat": 4,
 "nbformat_minor": 5
}
